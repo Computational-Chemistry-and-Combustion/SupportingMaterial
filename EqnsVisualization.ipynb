{
 "cells": [
  {
   "cell_type": "markdown",
   "metadata": {
    "id": "Gzh5PV1pl1TP"
   },
   "source": [
    "### Cluster-1\n",
    "$\\tau_{Cluster-1}  = -6.3264 \\cdot P^{-0.6152} \\cdot \\chi_{\\rm fuel}^{0.7779} \\cdot \\chi_{\\rm O_2}^{-1.5301} \\cdot exp\\bigg( \\frac{1}{T} \\bigg \\{\\frac{21992.6 \\cdot C_{SH}-2158.3}{C_{SH}}\\bigg \\} \\bigg )$\n",
    "\t\t\t\t\t\t\t\t\t\n",
    "$\\log \\tau_{Cluster-1}  = -6.3264 + -0.6152 \\cdot log P + {0.7779} \\cdot \\log \\chi_{\\rm fuel} + {-1.5301} \\cdot \\log \\chi_{\\rm O_2} +  \\frac{21992.6 }{T} +\\frac{-2158.3}{T \\cdot C_{SH}}$\t\t\t\t\t\t\t\t"
   ]
  },
  {
   "cell_type": "markdown",
   "metadata": {
    "id": "tO9pF5wNmb7Z"
   },
   "source": [
    "### Cluster-2\n",
    "\n",
    "$\\tau_{Cluster-2}  = -7.5404 \\cdot P^{-0.432} \\cdot \\chi_{\\rm fuel}^{0.7747} \\cdot \\chi_{\\rm O_2}^{-1.2913} \\cdot exp\\bigg( \\frac{1}{T} \\bigg \\{\\frac{22672.9 \\cdot C_{SH}-10102.5}{C_{SH}}\\bigg \\} \\bigg )$\n",
    "\n",
    "$\\log \\tau_{Cluster-2}  = -7.5404  + -0.432 \\cdot log P + {0.7747} \\cdot \\log \\chi_{\\rm fuel} + {-1.2913} \\cdot \\log \\chi_{\\rm O_2} +  \\frac{22672.9 }{T} +\\frac{-10102.5}{T \\cdot C_{SH}}$\t"
   ]
  },
  {
   "cell_type": "markdown",
   "metadata": {
    "id": "ppCIsTLPmgUD"
   },
   "source": [
    "### Cluster-3\n",
    "\n",
    "$\\tau_{Cluster-3} = 56.736 \\cdot P^{-0.9532} \\cdot \\chi_{\\rm fuel}^{-0.4889} \\cdot \\chi_{\\rm O_2}^{-18.3154} \\cdot exp\\bigg( \\frac{1}{T} \\bigg \\{\\frac{7960 \\cdot C_{SH}+1975.8}{C_{SH}}\\bigg \\} \\bigg )$\n",
    "\n",
    "$\\log \\tau_{Cluster-3}  = 56.736  + -0.9532 \\cdot log P + {-0.4889} \\cdot \\log \\chi_{\\rm fuel} + {-18.3154} \\cdot \\log \\chi_{\\rm O_2} +  \\frac{7960 }{T} +\\frac{*1975.8*}{T \\cdot C_{SH}}$\t"
   ]
  },
  {
   "cell_type": "code",
   "execution_count": null,
   "metadata": {
    "id": "vgsnsHWUVslp"
   },
   "outputs": [],
   "source": [
    "import plotly.graph_objects as go\n",
    "import numpy as np\n",
    "import matplotlib.pyplot as plt\n",
    "import pandas as pd\n",
    "import plotly.graph_objs as go\n",
    "from itertools import cycle"
   ]
  },
  {
   "cell_type": "code",
   "execution_count": null,
   "metadata": {
    "id": "4akh33Ja11a8"
   },
   "outputs": [],
   "source": [
    "#Fixed Parameter for clusters\n",
    "P = 7.3351\n",
    "T = 1285 \n",
    "X_fuel = 0.6575\n",
    "X_O2 = 10.3394\n",
    "C_SH = 9\n",
    "\n"
   ]
  },
  {
   "cell_type": "markdown",
   "metadata": {
    "id": "bmJ2eM4yaLoO"
   },
   "source": [
    "## Equations"
   ]
  },
  {
   "cell_type": "code",
   "execution_count": null,
   "metadata": {
    "id": "IIMvZtekcWHT"
   },
   "outputs": [],
   "source": [
    "def clus_1(P=P,T=T,X_fuel=X_fuel,X_O2=X_O2,C_SH=C_SH):\n",
    "    # print('P:',P)\n",
    "    # print('T:',T)\n",
    "    # print('X_fuel:',X_fuel)\n",
    "    # print('X_O2:',X_O2)\n",
    "    # print('C_SH:',C_SH)\n",
    "    tau = -6.3264 - (0.6152*np.log(P)) + (0.7779*np.log(X_fuel)) - (1.5301*np.log(X_O2)) + (21992.6/T) - (2158.3/(T*C_SH))\n",
    "    return tau\n",
    "\n",
    "def clus_2(P=P,T=T,X_fuel=X_fuel,X_O2=X_O2,C_SH=C_SH):\n",
    "    # print('P:',P)\n",
    "    # print('T:',T)\n",
    "    # print('X_fuel:',X_fuel)\n",
    "    # print('X_O2:',X_O2)\n",
    "    # print('C_SH:',C_SH)\n",
    "    tau = -7.5404 - (0.432*np.log(P)) + (0.7747*np.log(X_fuel)) - (1.2913*np.log(X_O2)) + (22672.9/T) - (10102.5/(T*C_SH))\n",
    "    return tau\n",
    "\n",
    "def clus_3(P=P,T=T,X_fuel=X_fuel,X_O2=X_O2,C_SH=C_SH):\n",
    "    # print('P:',P)\n",
    "    # print('T:',T)\n",
    "    # print('X_fuel:',X_fuel)\n",
    "    # print('X_O2:',X_O2)\n",
    "    # print('C_SH:',C_SH)\n",
    "    tau = 56.736 - (0.9532*np.log(P)) - (0.4886*np.log(X_fuel)) - (18.3154 *np.log(X_O2)) + (7960/T) - (1975.8/(T*C_SH))\n",
    "    return tau"
   ]
  },
  {
   "cell_type": "markdown",
   "metadata": {
    "id": "PVoPx5U7aKd2"
   },
   "source": [
    "## Visulization of log(P) vs 1000/T vs log(IDT)\n"
   ]
  },
  {
   "cell_type": "code",
   "execution_count": null,
   "metadata": {
    "id": "AS3zHHJgVwFI"
   },
   "outputs": [],
   "source": [
    "def Generate_PT_Plots(var1,var2):\n",
    "  x_surf, y_surf = np.meshgrid(var1,var2)\n",
    "\n",
    "  ## Prepare the data for Visualization\n",
    "  #tau_for_every_combo\n",
    "  data = pd.DataFrame({'var1': x_surf.ravel(), 'var2': y_surf.ravel()})\n",
    "\n",
    "  #####################################################\n",
    "  ###MAKE CHANGES\n",
    "  fittedclus1 = clus_1(P=data['var1'],T=data['var2'])\n",
    "  fittedclus1 = np.array(fittedclus1).reshape(x_surf.shape)\n",
    "\n",
    "  fittedclus2 =clus_2(P=data['var1'],T=data['var2'])\n",
    "  fittedclus2 = np.array(fittedclus2).reshape(x_surf.shape)\n",
    "\n",
    "  fittedclus3 =clus_3(P=data['var1'],T=data['var2'])\n",
    "  fittedclus3 = np.array(fittedclus3).reshape(x_surf.shape)\n",
    "\n",
    "  #####################################################\n",
    "\n",
    "\n",
    "  %matplotlib inline\n",
    "  fig = plt.figure()\n",
    "  ax = fig.add_subplot(111, projection='3d')\n",
    "  ax.plot_surface(np.log(x_surf),1000/y_surf,fittedclus1, color='b', alpha=0.3)\n",
    "  ax.plot_surface(np.log(x_surf),1000/y_surf,fittedclus2, color='r', alpha=0.3)\n",
    "  ax.plot_surface(np.log(x_surf),1000/y_surf,fittedclus3, color='g', alpha=0.3)\n",
    "  ax.set_xlabel('var1')\n",
    "  ax.set_ylabel('var2')\n",
    "  ax.set_zlabel('Tau')\n",
    "  plt.show()\n",
    "\n",
    "  %matplotlib inline\n",
    "  fig = go.Figure()\n",
    "  fig.add_trace(go.Surface(x=np.log(x_surf),y=1000/y_surf,z=fittedclus1,colorscale='blues',name='Equation-1',showscale=False))\n",
    "  fig.add_trace(go.Surface(x=np.log(x_surf),y=1000/y_surf,z=fittedclus2,colorscale='peach',name='Equation-2',showscale=False))\n",
    "  fig.add_trace(go.Surface(x=np.log(x_surf),y=1000/y_surf,z=fittedclus3,colorscale='greens',name='Equation-3',showscale=False))\n",
    "  fig.update_layout(scene = dict(\n",
    "                    xaxis_title='log(P)',\n",
    "                    yaxis_title='1000/T',\n",
    "                    zaxis_title='log(IDT)'),\n",
    "                    width=700,\n",
    "                    margin=dict(r=20, b=10, l=10, t=10),\n",
    "                    showlegend=True\n",
    "                    )\n",
    "\n",
    "  fig.show()\n",
    "\n",
    "\n"
   ]
  },
  {
   "cell_type": "code",
   "execution_count": null,
   "metadata": {
    "colab": {
     "base_uri": "https://localhost:8080/",
     "height": 773
    },
    "id": "ZFQAxm9WG5gk",
    "outputId": "53773b76-55f7-442a-d465-1ae12c76f052"
   },
   "outputs": [],
   "source": [
    "var1 = np.linspace(1, 62, 300)\n",
    "var2 = np.linspace(700, 2000, 300)\n",
    "Generate_PT_Plots(var1,var2)"
   ]
  },
  {
   "cell_type": "markdown",
   "metadata": {
    "id": "xRvH7lzqabHy"
   },
   "source": [
    "## Visulization of log(X_fuel) vs 1000/T vs log(IDT)\n"
   ]
  },
  {
   "cell_type": "code",
   "execution_count": null,
   "metadata": {
    "id": "9je72tJfcOER"
   },
   "outputs": [],
   "source": [
    "def Generate_TF_Plots(var1,var2):\n",
    "  x_surf, y_surf = np.meshgrid(var1,var2)\n",
    "\n",
    "  ## Prepare the data for Visualization\n",
    "  #tau_for_every_combo\n",
    "  data = pd.DataFrame({'var1': x_surf.ravel(), 'var2': y_surf.ravel()})\n",
    "\n",
    "  #####################################################\n",
    "  ###MAKE CHANGES\n",
    "  fittedclus1 = clus_1(X_fuel=data['var1'],T=data['var2'])\n",
    "  fittedclus1 = np.array(fittedclus1).reshape(x_surf.shape)\n",
    "\n",
    "  fittedclus2 =clus_2(X_fuel=data['var1'],T=data['var2'])\n",
    "  fittedclus2 = np.array(fittedclus2).reshape(x_surf.shape)\n",
    "\n",
    "  fittedclus3 =clus_3(X_fuel=data['var1'],T=data['var2'])\n",
    "  fittedclus3 = np.array(fittedclus3).reshape(x_surf.shape)\n",
    "\n",
    "  #####################################################\n",
    "\n",
    "\n",
    "  %matplotlib inline\n",
    "  fig = plt.figure()\n",
    "  ax = fig.add_subplot(111, projection='3d')\n",
    "  ax.plot_surface(np.log(x_surf),1000/y_surf,fittedclus1, color='b', alpha=0.3)\n",
    "  ax.plot_surface(np.log(x_surf),1000/y_surf,fittedclus2, color='r', alpha=0.3)\n",
    "  ax.plot_surface(np.log(x_surf),1000/y_surf,fittedclus3, color='g', alpha=0.3)\n",
    "  ax.set_xlabel('var1')\n",
    "  ax.set_ylabel('var2')\n",
    "  ax.set_zlabel('Tau')\n",
    "  plt.show()\n",
    "\n",
    "  %matplotlib inline\n",
    "  fig = go.Figure()\n",
    "  fig.add_trace(go.Surface(x=np.log(x_surf),y=1000/y_surf,z=fittedclus1,colorscale='blues',name='Equation-1',showscale=False))\n",
    "  fig.add_trace(go.Surface(x=np.log(x_surf),y=1000/y_surf,z=fittedclus2,colorscale='peach',name='Equation-2',showscale=False))\n",
    "  fig.add_trace(go.Surface(x=np.log(x_surf),y=1000/y_surf,z=fittedclus3,colorscale='greens',name='Equation-3',showscale=False))\n",
    "\n",
    "  fig.update_layout(scene = dict(\n",
    "                    xaxis_title='log(X_fuel)',\n",
    "                    yaxis_title='1000/T',\n",
    "                    zaxis_title='log(IDT)'),\n",
    "                    width=700,\n",
    "                    margin=dict(r=20, b=10, l=10, t=10))\n",
    "\n",
    "  fig.show()"
   ]
  },
  {
   "cell_type": "code",
   "execution_count": null,
   "metadata": {
    "colab": {
     "base_uri": "https://localhost:8080/",
     "height": 773
    },
    "id": "OGnzws1o_rHP",
    "outputId": "183451c3-b5f9-4563-83ab-19a6dcc570f2"
   },
   "outputs": [],
   "source": [
    "var1 = np.linspace(0.1, 5, 300)\n",
    "var2 = np.linspace(700, 2000, 300)\n",
    "Generate_TF_Plots(var1,var2)"
   ]
  },
  {
   "cell_type": "markdown",
   "metadata": {
    "id": "aeD18c-0ahYF"
   },
   "source": [
    "## Visulization of log(P) vs C_SH vs log(IDT)"
   ]
  },
  {
   "cell_type": "code",
   "execution_count": null,
   "metadata": {
    "id": "BaMRxdBj6s50"
   },
   "outputs": [],
   "source": [
    "def Generate_PCSH_Plots(var1,var2):\n",
    "  x_surf, y_surf = np.meshgrid(var1,var2)\n",
    "\n",
    "  ## Prepare the data for Visualization\n",
    "  #tau_for_every_combo\n",
    "  data = pd.DataFrame({'var1': x_surf.ravel(), 'var2': y_surf.ravel()})\n",
    "\n",
    "  #####################################################\n",
    "  ###MAKE CHANGES\n",
    "  fittedclus1 = clus_1(P=data['var1'],C_SH=data['var2'])\n",
    "  fittedclus1 = np.array(fittedclus1).reshape(x_surf.shape)\n",
    "\n",
    "  fittedclus2 =clus_2(P=data['var1'],C_SH=data['var2'])\n",
    "  fittedclus2 = np.array(fittedclus2).reshape(x_surf.shape)\n",
    "\n",
    "  fittedclus3 =clus_3(P=data['var1'],C_SH=data['var2'])\n",
    "  fittedclus3 = np.array(fittedclus3).reshape(x_surf.shape)\n",
    "\n",
    "  #####################################################\n",
    "\n",
    "\n",
    "  %matplotlib inline\n",
    "  fig = plt.figure()\n",
    "  ax = fig.add_subplot(111, projection='3d')\n",
    "  ax.plot_surface(np.log(x_surf),y_surf,fittedclus1, color='b', alpha=0.3)\n",
    "  ax.plot_surface(np.log(x_surf),y_surf,fittedclus2, color='r', alpha=0.3)\n",
    "  ax.plot_surface(np.log(x_surf),y_surf,fittedclus3, color='g', alpha=0.3)\n",
    "  ax.set_xlabel('var1')\n",
    "  ax.set_ylabel('var2')\n",
    "  ax.set_zlabel('Tau')\n",
    "  plt.show()\n",
    "\n",
    "  %matplotlib inline\n",
    "  fig = go.Figure()\n",
    "  fig.add_trace(go.Surface(x=np.log(x_surf),y=y_surf,z=fittedclus1,colorscale='blues',name='Equation-1',showscale=False))\n",
    "  fig.add_trace(go.Surface(x=np.log(x_surf),y=y_surf,z=fittedclus2,colorscale='peach',name='Equation-2',showscale=False))\n",
    "  fig.add_trace(go.Surface(x=np.log(x_surf),y=y_surf,z=fittedclus3,colorscale='greens',name='Equation-3',showscale=False))\n",
    "  fig.update_layout(scene = dict(\n",
    "                    xaxis_title='log(P)',\n",
    "                    yaxis_title='C_SH',\n",
    "                    zaxis_title='log(IDT)'),\n",
    "                    width=700,\n",
    "                    margin=dict(r=20, b=10, l=10, t=10))\n",
    "\n",
    "  fig.show()\n",
    "\n",
    "\n"
   ]
  },
  {
   "cell_type": "code",
   "execution_count": null,
   "metadata": {
    "colab": {
     "base_uri": "https://localhost:8080/",
     "height": 773
    },
    "id": "UwezvF4sVTuq",
    "outputId": "03748d35-b6f1-4c35-c7ca-53de6c45c1d9"
   },
   "outputs": [],
   "source": [
    "var1 = np.linspace(0.1, 60, 300)\n",
    "var2 = np.linspace(1, 20, 300)\n",
    "Generate_PCSH_Plots(var1,var2)"
   ]
  },
  {
   "cell_type": "markdown",
   "metadata": {
    "id": "anaoa-7Nand2"
   },
   "source": [
    "## Visulization of log(X_O2) vs 1000/T vs log(IDT)"
   ]
  },
  {
   "cell_type": "code",
   "execution_count": null,
   "metadata": {
    "id": "BqolI5LIc2Mw"
   },
   "outputs": [],
   "source": [
    "def Generate_TO_Plots(var1,var2):\n",
    "  x_surf, y_surf = np.meshgrid(var1,var2)\n",
    "\n",
    "  ## Prepare the data for Visualization\n",
    "  #tau_for_every_combo\n",
    "  data = pd.DataFrame({'var1': x_surf.ravel(), 'var2': y_surf.ravel()})\n",
    "\n",
    "  #####################################################\n",
    "  ###MAKE CHANGES\n",
    "  fittedclus1 = clus_1(X_O2=data['var1'],T=data['var2'])\n",
    "  fittedclus1 = np.array(fittedclus1).reshape(x_surf.shape)\n",
    "\n",
    "  fittedclus2 =clus_2(X_O2=data['var1'],T=data['var2'])\n",
    "  fittedclus2 = np.array(fittedclus2).reshape(x_surf.shape)\n",
    "\n",
    "  fittedclus3 =clus_3(X_O2=data['var1'],T=data['var2'])\n",
    "  fittedclus3 = np.array(fittedclus3).reshape(x_surf.shape)\n",
    "\n",
    "  #####################################################\n",
    "\n",
    "\n",
    "  %matplotlib inline\n",
    "  fig = plt.figure()\n",
    "  ax = fig.add_subplot(111, projection='3d')\n",
    "  ax.plot_surface(np.log(x_surf),1000/y_surf,fittedclus1, color='b', alpha=0.3)\n",
    "  ax.plot_surface(np.log(x_surf),1000/y_surf,fittedclus2, color='r', alpha=0.3)\n",
    "  ax.plot_surface(np.log(x_surf),1000/y_surf,fittedclus3, color='g', alpha=0.3)\n",
    "  ax.set_xlabel('var1')\n",
    "  ax.set_ylabel('var2')\n",
    "  ax.set_zlabel('Tau')\n",
    "  plt.show()\n",
    "\n",
    "  %matplotlib inline\n",
    "  fig = go.Figure()\n",
    "  fig.add_trace(go.Surface(x=np.log(x_surf),y=1000/y_surf,z=fittedclus1,colorscale='blues',name='Equation-1',showscale=False))\n",
    "  fig.add_trace(go.Surface(x=np.log(x_surf),y=1000/y_surf,z=fittedclus2,colorscale='peach',name='Equation-2',showscale=False))\n",
    "  fig.add_trace(go.Surface(x=np.log(x_surf),y=1000/y_surf,z=fittedclus3,colorscale='greens',name='Equation-3',showscale=False))\n",
    "  fig.update_layout(scene = dict(\n",
    "                    xaxis_title='log(X_O2)',\n",
    "                    yaxis_title='1000/T',\n",
    "                    zaxis_title='log(IDT)'),\n",
    "                    width=700,\n",
    "                    margin=dict(r=20, b=10, l=10, t=10))\n",
    "  fig.show()"
   ]
  },
  {
   "cell_type": "code",
   "execution_count": null,
   "metadata": {
    "colab": {
     "base_uri": "https://localhost:8080/",
     "height": 773
    },
    "id": "LcI7Xwy3eGNA",
    "outputId": "fad3d0dc-c923-4e76-fdde-5fc215bcf779"
   },
   "outputs": [],
   "source": [
    "var1 = np.linspace(0.1, 22, 300)\n",
    "var2 = np.linspace(700, 2000, 300)\n",
    "Generate_TO_Plots(var1,var2)"
   ]
  },
  {
   "cell_type": "markdown",
   "metadata": {
    "id": "o6lSRaExatKy"
   },
   "source": [
    "## Visulization of log(X_O2) vs log(IDT) vs C_SH\n"
   ]
  },
  {
   "cell_type": "code",
   "execution_count": null,
   "metadata": {
    "id": "Rm0P95h4205q"
   },
   "outputs": [],
   "source": [
    "def Generate_TCSH_Plots(var1,var2):\n",
    "  x_surf, y_surf = np.meshgrid(var1,var2)\n",
    "\n",
    "  ## Prepare the data for Visualization\n",
    "  #tau_for_every_combo\n",
    "  data = pd.DataFrame({'var1': x_surf.ravel(), 'var2': y_surf.ravel()})\n",
    "\n",
    "  #####################################################\n",
    "  ###MAKE CHANGES\n",
    "  fittedclus1 = clus_1(X_O2=data['var1'],C_SH=data['var2'])\n",
    "  fittedclus1 = np.array(fittedclus1).reshape(x_surf.shape)\n",
    "\n",
    "  fittedclus2 =clus_2(X_O2=data['var1'],C_SH=data['var2'])\n",
    "  fittedclus2 = np.array(fittedclus2).reshape(x_surf.shape)\n",
    "\n",
    "  fittedclus3 =clus_3(X_O2=data['var1'],C_SH=data['var2'])\n",
    "  fittedclus3 = np.array(fittedclus3).reshape(x_surf.shape)\n",
    "\n",
    "  #####################################################\n",
    "\n",
    "\n",
    "  %matplotlib inline\n",
    "  fig = plt.figure()\n",
    "  ax = fig.add_subplot(111, projection='3d')\n",
    "  ax.plot_surface(np.log(x_surf),y_surf,fittedclus1, color='b', alpha=0.3)\n",
    "  ax.plot_surface(np.log(x_surf),y_surf,fittedclus2, color='r', alpha=0.3)\n",
    "  ax.plot_surface(np.log(x_surf),y_surf,fittedclus3, color='g', alpha=0.3)\n",
    "  ax.set_xlabel('var1')\n",
    "  ax.set_ylabel('var2')\n",
    "  ax.set_zlabel('Tau')\n",
    "  plt.show()\n",
    "\n",
    "  %matplotlib inline\n",
    "  fig = go.Figure()\n",
    "  fig.add_trace(go.Surface(x=np.log(x_surf),y=y_surf,z=fittedclus1,colorscale='blues',name='Equation-1',showscale=False))\n",
    "  fig.add_trace(go.Surface(x=np.log(x_surf),y=y_surf,z=fittedclus2,colorscale='peach',name='Equation-2',showscale=False))\n",
    "  fig.add_trace(go.Surface(x=np.log(x_surf),y=y_surf,z=fittedclus3,colorscale='greens',name='Equation-3',showscale=False))\n",
    "  fig.update_layout(scene = dict(\n",
    "                    xaxis_title='log(X_O2)',\n",
    "                    yaxis_title='C_SH',\n",
    "                    zaxis_title='log(IDT)'),\n",
    "                    width=700,\n",
    "                    margin=dict(r=20, b=10, l=10, t=10))\n",
    "  fig.show()"
   ]
  },
  {
   "cell_type": "code",
   "execution_count": null,
   "metadata": {
    "colab": {
     "base_uri": "https://localhost:8080/",
     "height": 773
    },
    "id": "BP5aTIaB23ex",
    "outputId": "37f4e097-fb39-43ab-a17a-02c2c2124151"
   },
   "outputs": [],
   "source": [
    "var1 = np.linspace(0.1, 22, 300)\n",
    "var2 = np.linspace(1, 20, 300)\n",
    "Generate_TCSH_Plots(var1,var2)"
   ]
  },
  {
   "cell_type": "markdown",
   "metadata": {
    "id": "edXOPrMAsVgx"
   },
   "source": [
    "# TF Plots Analysis with variation in X_O2.\n",
    "Selected based on SHAP analysis\n"
   ]
  },
  {
   "cell_type": "code",
   "execution_count": null,
   "metadata": {
    "colab": {
     "base_uri": "https://localhost:8080/",
     "height": 829
    },
    "id": "WDcyTmMU3IRC",
    "outputId": "cec8cbd3-d0c2-4f21-c638-73adf1e22da8"
   },
   "outputs": [],
   "source": [
    "#Fixed Parameter for clusters\n",
    "P = 7.3351\n",
    "T = 1285 \n",
    "X_fuel = 0.6575\n",
    "X_O2 = 4\n",
    "C_SH = 9\n",
    "\n",
    "def clus_1(P=P,T=T,X_fuel=X_fuel,X_O2=X_O2,C_SH=C_SH):\n",
    "    print('X_O2:',X_O2)\n",
    "    tau = -6.3264 - (0.6152*np.log(P)) + (0.7779*np.log(X_fuel)) - (1.5301*np.log(X_O2)) + (21992.6/T) - (2158.3/(T*C_SH))\n",
    "    return tau\n",
    "\n",
    "def clus_2(P=P,T=T,X_fuel=X_fuel,X_O2=X_O2,C_SH=C_SH):\n",
    "    print('X_O2:',X_O2)\n",
    "    tau = -7.5404 - (0.432*np.log(P)) + (0.7747*np.log(X_fuel)) - (1.2913*np.log(X_O2)) + (22672.9/T) - (10102.5/(T*C_SH))\n",
    "    return tau\n",
    "\n",
    "def clus_3(P=P,T=T,X_fuel=X_fuel,X_O2=X_O2,C_SH=C_SH):\n",
    "    print('X_O2:',X_O2)\n",
    "    tau = 56.736 - (0.9532*np.log(P)) - (0.4886*np.log(X_fuel)) - (18.3154 *np.log(X_O2)) + (7960/T) - (1975.8/(T*C_SH))\n",
    "    return tau\n",
    "\n",
    "var1 = np.linspace(0.1, 4, 300) #F\n",
    "var2 = np.linspace(700, 2000, 300) #T\n",
    "Generate_TF_Plots(var1,var2)"
   ]
  },
  {
   "cell_type": "code",
   "execution_count": null,
   "metadata": {
    "colab": {
     "base_uri": "https://localhost:8080/",
     "height": 829
    },
    "id": "F4NW8p0OsmWZ",
    "outputId": "232311a3-e091-423b-ecac-c13da8764590"
   },
   "outputs": [],
   "source": [
    "#Fixed Parameter for clusters\n",
    "P = 7.3351\n",
    "T = 1285 \n",
    "X_fuel = 0.6575\n",
    "X_O2 = 10\n",
    "C_SH = 9\n",
    "\n",
    "def clus_1(P=P,T=T,X_fuel=X_fuel,X_O2=X_O2,C_SH=C_SH):\n",
    "    print('X_O2:',X_O2)\n",
    "    tau = -6.3264 - (0.6152*np.log(P)) + (0.7779*np.log(X_fuel)) - (1.5301*np.log(X_O2)) + (21992.6/T) - (2158.3/(T*C_SH))\n",
    "    return tau\n",
    "\n",
    "def clus_2(P=P,T=T,X_fuel=X_fuel,X_O2=X_O2,C_SH=C_SH):\n",
    "    print('X_O2:',X_O2)\n",
    "    tau = -7.5404 - (0.432*np.log(P)) + (0.7747*np.log(X_fuel)) - (1.2913*np.log(X_O2)) + (22672.9/T) - (10102.5/(T*C_SH))\n",
    "    return tau\n",
    "\n",
    "def clus_3(P=P,T=T,X_fuel=X_fuel,X_O2=X_O2,C_SH=C_SH):\n",
    "    print('X_O2:',X_O2)\n",
    "    tau = 56.736 - (0.9532*np.log(P)) - (0.4886*np.log(X_fuel)) - (18.3154 *np.log(X_O2)) + (7960/T) - (1975.8/(T*C_SH))\n",
    "    return tau\n",
    "\n",
    "var1 = np.linspace(0.1, 3, 300) #F\n",
    "var2 = np.linspace(700, 2000, 300) #T\n",
    "Generate_TF_Plots(var1,var2)"
   ]
  },
  {
   "cell_type": "code",
   "execution_count": null,
   "metadata": {
    "colab": {
     "base_uri": "https://localhost:8080/",
     "height": 829
    },
    "id": "iORD6-E0sm1k",
    "outputId": "ba57ddb2-dcdc-40a1-be29-5eaa0c3be6f3"
   },
   "outputs": [],
   "source": [
    "#Fixed Parameter for clusters\n",
    "P = 7.3351\n",
    "T = 1285 \n",
    "X_fuel = 0.6575\n",
    "X_O2 = 20\n",
    "C_SH = 9\n",
    "\n",
    "def clus_1(P=P,T=T,X_fuel=X_fuel,X_O2=X_O2,C_SH=C_SH):\n",
    "    print('X_O2:',X_O2)\n",
    "    tau = -6.3264 - (0.6152*np.log(P)) + (0.7779*np.log(X_fuel)) - (1.5301*np.log(X_O2)) + (21992.6/T) - (2158.3/(T*C_SH))\n",
    "    return tau\n",
    "\n",
    "def clus_2(P=P,T=T,X_fuel=X_fuel,X_O2=X_O2,C_SH=C_SH):\n",
    "    print('X_O2:',X_O2)\n",
    "    tau = -7.5404 - (0.432*np.log(P)) + (0.7747*np.log(X_fuel)) - (1.2913*np.log(X_O2)) + (22672.9/T) - (10102.5/(T*C_SH))\n",
    "    return tau\n",
    "\n",
    "def clus_3(P=P,T=T,X_fuel=X_fuel,X_O2=X_O2,C_SH=C_SH):\n",
    "    print('X_O2:',X_O2)\n",
    "    tau = 56.736 - (0.9532*np.log(P)) - (0.4886*np.log(X_fuel)) - (18.3154 *np.log(X_O2)) + (7960/T) - (1975.8/(T*C_SH))\n",
    "    return tau\n",
    "\n",
    "var1 = np.linspace(0.1, 3, 300) #F\n",
    "var2 = np.linspace(700, 2000, 300) #T\n",
    "Generate_TF_Plots(var1,var2)"
   ]
  },
  {
   "cell_type": "markdown",
   "metadata": {
    "id": "es7sBE7cgOlH"
   },
   "source": [
    "# TF Plots Analysis with variation in P."
   ]
  },
  {
   "cell_type": "code",
   "execution_count": null,
   "metadata": {
    "colab": {
     "base_uri": "https://localhost:8080/",
     "height": 829
    },
    "id": "GYu41epUsnVE",
    "outputId": "f1ee1e7d-e59a-4f1f-cd1c-4465229e1252"
   },
   "outputs": [],
   "source": [
    "#Fixed Parameter for clusters\n",
    "P = 2\n",
    "T = 1285 \n",
    "X_fuel = 0.6575\n",
    "X_O2 = 10.3394\n",
    "C_SH = 9\n",
    "\n",
    "def clus_1(P=P,T=T,X_fuel=X_fuel,X_O2=X_O2,C_SH=C_SH):\n",
    "    print('P:',P)\n",
    "    tau = -6.3264 - (0.6152*np.log(P)) + (0.7779*np.log(X_fuel)) - (1.5301*np.log(X_O2)) + (21992.6/T) - (2158.3/(T*C_SH))\n",
    "    return tau\n",
    "\n",
    "def clus_2(P=P,T=T,X_fuel=X_fuel,X_O2=X_O2,C_SH=C_SH):\n",
    "    print('P:',P)\n",
    "    tau = -7.5404 - (0.432*np.log(P)) + (0.7747*np.log(X_fuel)) - (1.2913*np.log(X_O2)) + (22672.9/T) - (10102.5/(T*C_SH))\n",
    "    return tau\n",
    "\n",
    "def clus_3(P=P,T=T,X_fuel=X_fuel,X_O2=X_O2,C_SH=C_SH):\n",
    "    print('P:',P)\n",
    "    tau = 56.736 - (0.9532*np.log(P)) - (0.4886*np.log(X_fuel)) - (18.3154 *np.log(X_O2)) + (7960/T) - (1975.8/(T*C_SH))\n",
    "    return tau\n",
    "\n",
    "var1 = np.linspace(0.1, 3, 300) #F\n",
    "var2 = np.linspace(700, 2000, 300) #T\n",
    "Generate_TF_Plots(var1,var2)"
   ]
  },
  {
   "cell_type": "code",
   "execution_count": null,
   "metadata": {
    "colab": {
     "base_uri": "https://localhost:8080/",
     "height": 829
    },
    "id": "tD-2cH38snz5",
    "outputId": "4d73f8e6-e2e6-4a00-c31b-24920ad7b788"
   },
   "outputs": [],
   "source": [
    "#Fixed Parameter for clusters\n",
    "P = 20\n",
    "T = 1285 \n",
    "X_fuel = 0.6575\n",
    "X_O2 = 10.3394\n",
    "C_SH = 9\n",
    "\n",
    "def clus_1(P=P,T=T,X_fuel=X_fuel,X_O2=X_O2,C_SH=C_SH):\n",
    "    print('P:',P)\n",
    "    tau = -6.3264 - (0.6152*np.log(P)) + (0.7779*np.log(X_fuel)) - (1.5301*np.log(X_O2)) + (21992.6/T) - (2158.3/(T*C_SH))\n",
    "    return tau\n",
    "\n",
    "def clus_2(P=P,T=T,X_fuel=X_fuel,X_O2=X_O2,C_SH=C_SH):\n",
    "    print('P:',P)\n",
    "    tau = -7.5404 - (0.432*np.log(P)) + (0.7747*np.log(X_fuel)) - (1.2913*np.log(X_O2)) + (22672.9/T) - (10102.5/(T*C_SH))\n",
    "    return tau\n",
    "\n",
    "def clus_3(P=P,T=T,X_fuel=X_fuel,X_O2=X_O2,C_SH=C_SH):\n",
    "    print('P:',P)\n",
    "    tau = 56.736 - (0.9532*np.log(P)) - (0.4886*np.log(X_fuel)) - (18.3154 *np.log(X_O2)) + (7960/T) - (1975.8/(T*C_SH))\n",
    "    return tau\n",
    "    \n",
    "var1 = np.linspace(0.1, 3, 300) #F\n",
    "var2 = np.linspace(700, 2000, 300) #T\n",
    "Generate_TF_Plots(var1,var2)"
   ]
  },
  {
   "cell_type": "code",
   "execution_count": null,
   "metadata": {
    "colab": {
     "base_uri": "https://localhost:8080/",
     "height": 829
    },
    "id": "nZaFuuy3ftwY",
    "outputId": "ebe7cff8-73c3-4dfd-bf96-2cb21a2968c3"
   },
   "outputs": [],
   "source": [
    "#Fixed Parameter for clusters\n",
    "P = 50\n",
    "T = 1285 \n",
    "X_fuel = 0.6575\n",
    "X_O2 = 10.3394\n",
    "C_SH = 9\n",
    "\n",
    "def clus_1(P=P,T=T,X_fuel=X_fuel,X_O2=X_O2,C_SH=C_SH):\n",
    "    print('P:',P)\n",
    "    tau = -6.3264 - (0.6152*np.log(P)) + (0.7779*np.log(X_fuel)) - (1.5301*np.log(X_O2)) + (21992.6/T) - (2158.3/(T*C_SH))\n",
    "    return tau\n",
    "\n",
    "def clus_2(P=P,T=T,X_fuel=X_fuel,X_O2=X_O2,C_SH=C_SH):\n",
    "    print('P:',P)\n",
    "    tau = -7.5404 - (0.432*np.log(P)) + (0.7747*np.log(X_fuel)) - (1.2913*np.log(X_O2)) + (22672.9/T) - (10102.5/(T*C_SH))\n",
    "    return tau\n",
    "\n",
    "def clus_3(P=P,T=T,X_fuel=X_fuel,X_O2=X_O2,C_SH=C_SH):\n",
    "    print('P:',P)\n",
    "    tau = 56.736 - (0.9532*np.log(P)) - (0.4886*np.log(X_fuel)) - (18.3154 *np.log(X_O2)) + (7960/T) - (1975.8/(T*C_SH))\n",
    "    return tau\n",
    "    \n",
    "var1 = np.linspace(0.1, 3, 300) #F\n",
    "var2 = np.linspace(700, 2000, 300) #T\n",
    "Generate_TF_Plots(var1,var2)"
   ]
  },
  {
   "cell_type": "markdown",
   "metadata": {
    "id": "8pp0dnHjgtYw"
   },
   "source": [
    "# TF Plots Analysis with variation in C_SH."
   ]
  },
  {
   "cell_type": "code",
   "execution_count": null,
   "metadata": {
    "colab": {
     "base_uri": "https://localhost:8080/",
     "height": 829
    },
    "id": "wDdgLvkZgyGY",
    "outputId": "ce9b6ffa-38b5-4d07-b44c-8e9846495a41"
   },
   "outputs": [],
   "source": [
    "#Fixed Parameter for clusters\n",
    "P = 7.3351\n",
    "T = 1285 \n",
    "X_fuel = 0.6575\n",
    "X_O2 = 10.3394\n",
    "C_SH = 4\n",
    "\n",
    "def clus_1(P=P,T=T,X_fuel=X_fuel,X_O2=X_O2,C_SH=C_SH):\n",
    "    print('C_SH:',C_SH)\n",
    "    tau = -6.3264 - (0.6152*np.log(P)) + (0.7779*np.log(X_fuel)) - (1.5301*np.log(X_O2)) + (21992.6/T) - (2158.3/(T*C_SH))\n",
    "    return tau\n",
    "\n",
    "def clus_2(P=P,T=T,X_fuel=X_fuel,X_O2=X_O2,C_SH=C_SH):\n",
    "    print('C_SH:',C_SH)\n",
    "    tau = -7.5404 - (0.432*np.log(P)) + (0.7747*np.log(X_fuel)) - (1.2913*np.log(X_O2)) + (22672.9/T) - (10102.5/(T*C_SH))\n",
    "    return tau\n",
    "\n",
    "def clus_3(P=P,T=T,X_fuel=X_fuel,X_O2=X_O2,C_SH=C_SH):\n",
    "    print('C_SH:',C_SH)\n",
    "    tau = 56.736 - (0.9532*np.log(P)) - (0.4886*np.log(X_fuel)) - (18.3154 *np.log(X_O2)) + (7960/T) - (1975.8/(T*C_SH))\n",
    "    return tau\n",
    "    \n",
    "var1 = np.linspace(0.1, 3, 300) #F\n",
    "var2 = np.linspace(700, 2000, 300) #T\n",
    "Generate_TF_Plots(var1,var2)"
   ]
  },
  {
   "cell_type": "code",
   "execution_count": null,
   "metadata": {
    "colab": {
     "background_save": true,
     "base_uri": "https://localhost:8080/",
     "height": 829
    },
    "id": "8ixrz148g7Hn",
    "outputId": "c4ce0d4e-88b1-44bf-b22f-a8f7ef2a30c6"
   },
   "outputs": [],
   "source": [
    "#Fixed Parameter for clusters\n",
    "P = 7.3351\n",
    "T = 1285 \n",
    "X_fuel = 0.6575\n",
    "X_O2 = 10.3394\n",
    "C_SH = 12\n",
    "\n",
    "def clus_1(P=P,T=T,X_fuel=X_fuel,X_O2=X_O2,C_SH=C_SH):\n",
    "    print('C_SH:',C_SH)\n",
    "    tau = -6.3264 - (0.6152*np.log(P)) + (0.7779*np.log(X_fuel)) - (1.5301*np.log(X_O2)) + (21992.6/T) - (2158.3/(T*C_SH))\n",
    "    return tau\n",
    "\n",
    "def clus_2(P=P,T=T,X_fuel=X_fuel,X_O2=X_O2,C_SH=C_SH):\n",
    "    print('C_SH:',C_SH)\n",
    "    tau = -7.5404 - (0.432*np.log(P)) + (0.7747*np.log(X_fuel)) - (1.2913*np.log(X_O2)) + (22672.9/T) - (10102.5/(T*C_SH))\n",
    "    return tau\n",
    "\n",
    "def clus_3(P=P,T=T,X_fuel=X_fuel,X_O2=X_O2,C_SH=C_SH):\n",
    "    print('C_SH:',C_SH)\n",
    "    tau = 56.736 - (0.9532*np.log(P)) - (0.4886*np.log(X_fuel)) - (18.3154 *np.log(X_O2)) + (7960/T) - (1975.8/(T*C_SH))\n",
    "    return tau\n",
    "    \n",
    "var1 = np.linspace(0.1, 3, 300) #F\n",
    "var2 = np.linspace(700, 2000, 300) #T\n",
    "Generate_TF_Plots(var1,var2)"
   ]
  },
  {
   "cell_type": "code",
   "execution_count": null,
   "metadata": {
    "colab": {
     "base_uri": "https://localhost:8080/",
     "height": 829
    },
    "id": "jzz6wXS0g838",
    "outputId": "27db41f2-b53a-46f2-f13a-dd58ae96652a"
   },
   "outputs": [],
   "source": [
    "#Fixed Parameter for clusters\n",
    "P = 7.3351\n",
    "T = 1285 \n",
    "X_fuel = 0.6575\n",
    "X_O2 = 10.3394\n",
    "C_SH = 25\n",
    "\n",
    "def clus_1(P=P,T=T,X_fuel=X_fuel,X_O2=X_O2,C_SH=C_SH):\n",
    "    print('C_SH:',C_SH)\n",
    "    tau = -6.3264 - (0.6152*np.log(P)) + (0.7779*np.log(X_fuel)) - (1.5301*np.log(X_O2)) + (21992.6/T) - (2158.3/(T*C_SH))\n",
    "    return tau\n",
    "\n",
    "def clus_2(P=P,T=T,X_fuel=X_fuel,X_O2=X_O2,C_SH=C_SH):\n",
    "    print('C_SH:',C_SH)\n",
    "    tau = -7.5404 - (0.432*np.log(P)) + (0.7747*np.log(X_fuel)) - (1.2913*np.log(X_O2)) + (22672.9/T) - (10102.5/(T*C_SH))\n",
    "    return tau\n",
    "\n",
    "def clus_3(P=P,T=T,X_fuel=X_fuel,X_O2=X_O2,C_SH=C_SH):\n",
    "    print('C_SH:',C_SH)\n",
    "    tau = 56.736 - (0.9532*np.log(P)) - (0.4886*np.log(X_fuel)) - (18.3154 *np.log(X_O2)) + (7960/T) - (1975.8/(T*C_SH))\n",
    "    return tau\n",
    "    \n",
    "var1 = np.linspace(0.1, 3, 300) #F\n",
    "var2 = np.linspace(700, 2000, 300) #T\n",
    "Generate_TF_Plots(var1,var2)"
   ]
  },
  {
   "cell_type": "code",
   "execution_count": null,
   "metadata": {
    "id": "FWgOJN3PifG_"
   },
   "outputs": [],
   "source": []
  }
 ],
 "metadata": {
  "colab": {
   "collapsed_sections": [],
   "name": "EqnsVisualization.ipynb",
   "provenance": []
  },
  "kernelspec": {
   "display_name": "Python 3",
   "language": "python",
   "name": "python3"
  },
  "language_info": {
   "codemirror_mode": {
    "name": "ipython",
    "version": 3
   },
   "file_extension": ".py",
   "mimetype": "text/x-python",
   "name": "python",
   "nbconvert_exporter": "python",
   "pygments_lexer": "ipython3",
   "version": "3.5.2"
  }
 },
 "nbformat": 4,
 "nbformat_minor": 1
}
